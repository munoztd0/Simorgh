{
 "cells": [
  {
   "cell_type": "code",
   "execution_count": 1,
   "id": "union-tutorial",
   "metadata": {},
   "outputs": [],
   "source": [
    "from datetime import datetime, date\n",
    "\n",
    "import datetime\n",
    "import math\n",
    "import numpy as np\n",
    "import pandas as pd\n",
    "import matplotlib.pyplot as plt\n",
    "from collections import Counter\n",
    "import os\n",
    "import operator\n",
    "import sys\n",
    "import glob\n",
    "import shutil\n",
    "\n",
    "from scipy.signal import (butter, lfilter, hilbert, detrend, periodogram)\n",
    "from scipy.io import loadmat\n",
    "from shutil import make_archive\n",
    "\n",
    "from mpl_toolkits.mplot3d import Axes3D\n",
    "from pylab import *\n",
    "from obspy.signal.trigger import (\n",
    "    ar_pick, classic_sta_lta, classic_sta_lta_py, coincidence_trigger, pk_baer,\n",
    "    recursive_sta_lta, recursive_sta_lta_py, trigger_onset)\n",
    "import simorghNDTmodule\n"
   ]
  },
  {
   "cell_type": "code",
   "execution_count": 2,
   "id": "162c8126-92a3-4087-8f02-7d977079968a",
   "metadata": {},
   "outputs": [],
   "source": [
    "accountname = sys.argv[1]\n",
    "projectnamecode = sys.argv[2]\n",
    "industrytype = sys.argv[3]\n",
    "calctype = sys.argv[4]\n",
    "#accountname='MomeniAc'\n",
    "#projectnamecode='ahar____'\n",
    "#industrytype='ndt'\n",
    "#calctype = 'passive'"
   ]
  },
  {
   "cell_type": "code",
   "execution_count": 3,
   "id": "0687a593-dbdb-468f-81e8-0d3ea227365c",
   "metadata": {},
   "outputs": [],
   "source": [
    "clientInfoPath_= '../simorghndt/' , accountname , '-' , projectnamecode , '/' , accountname , '-' , industrytype , '-' , calctype , '.csv'\n",
    "clientInfoPath = ''.join(clientInfoPath_)\n",
    "#clientInfoPath= '../simorghndt/MomeniAc-ahar____/MomeniAc-ndt-passive.csv'"
   ]
  },
  {
   "cell_type": "code",
   "execution_count": 4,
   "id": "f3bc17fb-48e7-4747-a94c-ad852e860a9f",
   "metadata": {},
   "outputs": [],
   "source": [
    "clientInfo = pd.read_csv(clientInfoPath, index_col=0)"
   ]
  },
  {
   "cell_type": "code",
   "execution_count": 5,
   "id": "44760722-83c2-4edf-8227-911f08130ea1",
   "metadata": {},
   "outputs": [
    {
     "data": {
      "text/html": [
       "<div>\n",
       "<style scoped>\n",
       "    .dataframe tbody tr th:only-of-type {\n",
       "        vertical-align: middle;\n",
       "    }\n",
       "\n",
       "    .dataframe tbody tr th {\n",
       "        vertical-align: top;\n",
       "    }\n",
       "\n",
       "    .dataframe thead th {\n",
       "        text-align: right;\n",
       "    }\n",
       "</style>\n",
       "<table border=\"1\" class=\"dataframe\">\n",
       "  <thead>\n",
       "    <tr style=\"text-align: right;\">\n",
       "      <th></th>\n",
       "      <th>col1</th>\n",
       "    </tr>\n",
       "  </thead>\n",
       "  <tbody>\n",
       "    <tr>\n",
       "      <th>0</th>\n",
       "      <td>MomeniAc</td>\n",
       "    </tr>\n",
       "    <tr>\n",
       "      <th>1</th>\n",
       "      <td>ahar____</td>\n",
       "    </tr>\n",
       "    <tr>\n",
       "      <th>2</th>\n",
       "      <td>ndt</td>\n",
       "    </tr>\n",
       "    <tr>\n",
       "      <th>3</th>\n",
       "      <td>Passive</td>\n",
       "    </tr>\n",
       "    <tr>\n",
       "      <th>4</th>\n",
       "      <td>Binary</td>\n",
       "    </tr>\n",
       "    <tr>\n",
       "      <th>5</th>\n",
       "      <td>continuous</td>\n",
       "    </tr>\n",
       "    <tr>\n",
       "      <th>6</th>\n",
       "      <td>(10000000.0, 4)</td>\n",
       "    </tr>\n",
       "    <tr>\n",
       "      <th>7</th>\n",
       "      <td>(100000.0, 800000.0)</td>\n",
       "    </tr>\n",
       "  </tbody>\n",
       "</table>\n",
       "</div>"
      ],
      "text/plain": [
       "                   col1\n",
       "0              MomeniAc\n",
       "1              ahar____\n",
       "2                   ndt\n",
       "3               Passive\n",
       "4                Binary\n",
       "5            continuous\n",
       "6       (10000000.0, 4)\n",
       "7  (100000.0, 800000.0)"
      ]
     },
     "execution_count": 5,
     "metadata": {},
     "output_type": "execute_result"
    }
   ],
   "source": [
    "clientInfo"
   ]
  },
  {
   "cell_type": "code",
   "execution_count": 6,
   "id": "f7db5c2a-5e9f-4506-bd53-df9a0b344c55",
   "metadata": {},
   "outputs": [],
   "source": [
    "#clientInfoPath= ['../simorghndt/' + accountname + '-' + projectnamecode + '/' + accountname + '-' + industrytype + '-' + calctype +'.csv']"
   ]
  },
  {
   "cell_type": "code",
   "execution_count": 7,
   "id": "13a456ed-b8e0-4484-8d36-e62dcc0de31e",
   "metadata": {},
   "outputs": [],
   "source": [
    "#clientInfoPathname,accountname"
   ]
  },
  {
   "cell_type": "code",
   "execution_count": 8,
   "id": "657fedbb-7d6b-4d43-9180-bb0d7e060738",
   "metadata": {},
   "outputs": [],
   "source": [
    "#accountname = clientInfo.iloc[0].iloc[0]\n",
    "#projectnamecode = clientInfo.iloc[1].iloc[0]\n",
    "#industrytype = clientInfo.iloc[2].iloc[0]\n",
    "\n",
    "#projectnamecode='ahar____'\n",
    "#accountname='MomeniAc'\n",
    "#industrytype='ndt'"
   ]
  },
  {
   "cell_type": "code",
   "execution_count": 9,
   "id": "570f94cc-f8b4-44f9-9d9c-a58a8aace298",
   "metadata": {},
   "outputs": [
    {
     "data": {
      "text/plain": [
       "'MomeniAc-ahar____-ndt-results'"
      ]
     },
     "execution_count": 9,
     "metadata": {},
     "output_type": "execute_result"
    }
   ],
   "source": [
    "resultsfoldname = '-'.join([accountname, projectnamecode, industrytype, 'results'])\n",
    "resultsfoldname"
   ]
  },
  {
   "cell_type": "code",
   "execution_count": 10,
   "id": "f242dd26-c951-4425-b83b-e0f55ce33ba4",
   "metadata": {},
   "outputs": [],
   "source": [
    "# Set your parameters here\n",
    "hr1, hr2 = 18, 18\n",
    "min1, min2 = 19, 19\n",
    "sec1, sec2 = 10, 14\n",
    "datenam = [2022, 4, 7]\n",
    "rocknam = 'Gabbro07K'\n",
    "starttime = [hr1, min1, sec1]\n",
    "endtime = [hr2, min2, sec2]"
   ]
  },
  {
   "cell_type": "code",
   "execution_count": 11,
   "id": "6c066d86-1843-44a5-92f1-72dca438a7b8",
   "metadata": {},
   "outputs": [],
   "source": [
    "length_of_channel = 40000000"
   ]
  },
  {
   "cell_type": "code",
   "execution_count": 12,
   "id": "59a5e73b-27aa-4d16-a667-15066fb64d8d",
   "metadata": {},
   "outputs": [],
   "source": [
    "velocityPath_= ['../simorghndt/', accountname, '-' , projectnamecode, '/velocitymodel.txt']\n",
    "velocityPath = ''.join(velocityPath_)\n",
    "velocitymodel = pd.read_csv(velocityPath, header=None, delimiter=\"\\t\")  "
   ]
  },
  {
   "cell_type": "code",
   "execution_count": 13,
   "id": "bae4d73d-c497-43c7-be09-d03e204f2b12",
   "metadata": {},
   "outputs": [],
   "source": [
    "sensorsPath_= ['../simorghndt/', accountname, '-' , projectnamecode, '/sensors.txt']\n",
    "sensorsPath = ''.join(sensorsPath_)\n",
    "receivers = pd.read_csv(sensorsPath, header=None, delimiter=\"\\t\")   \n",
    "receivers = receivers * 100\n",
    "len_receivvers = len(receivers)"
   ]
  },
  {
   "cell_type": "code",
   "execution_count": 14,
   "id": "f2f94d8a-ea0b-4f32-914e-ab4072257601",
   "metadata": {},
   "outputs": [],
   "source": [
    "Vp=velocitymodel.iloc[0].iloc[0]"
   ]
  },
  {
   "cell_type": "code",
   "execution_count": 15,
   "id": "f357fe2b-740f-4e58-9a25-b9dd7a443f0c",
   "metadata": {},
   "outputs": [
    {
     "data": {
      "text/plain": [
       "'19:01:46'"
      ]
     },
     "execution_count": 15,
     "metadata": {},
     "output_type": "execute_result"
    }
   ],
   "source": [
    "datetime.datetime.now().strftime('%H:%M:%S')"
   ]
  },
  {
   "cell_type": "code",
   "execution_count": 16,
   "id": "6b72ed28-8f70-404d-af2d-d8887983f1c8",
   "metadata": {},
   "outputs": [
    {
     "data": {
      "text/plain": [
       "'/Users/simorgh/Documents/SimorghPythonCode/Gabro7AWS/simorghndtcode'"
      ]
     },
     "execution_count": 16,
     "metadata": {},
     "output_type": "execute_result"
    }
   ],
   "source": [
    "pwd"
   ]
  },
  {
   "cell_type": "code",
   "execution_count": 17,
   "id": "3e9b57b5-93f0-439b-8178-77a505969a1a",
   "metadata": {},
   "outputs": [],
   "source": [
    "# Create results folder if it doesn't exist\n",
    "#if not os.path.exists(resultsfoldname):\n",
    "#    os.mkdir(resultsfoldname)\n",
    "\n",
    "#parall = val  # p-wave velocity m/s from active acoustic\n",
    "# Other parameters can be loaded similarly\n",
    "\n",
    "# Initialize other variables\n",
    "figsignal, figrms, wavesave = 0, 0, 0\n",
    "risedurfrac = 1200\n",
    "threshold_hits = 100\n",
    "threshold_rise = 100\n",
    "noise_thresh_rise = 10\n",
    "amp_dur_thresh = 50\n",
    "rng1, rng2, rng3 = 25, 25, 25\n",
    "TIHOM=0"
   ]
  },
  {
   "cell_type": "code",
   "execution_count": 18,
   "id": "ab293dac-ebd3-4cb0-8ce9-bc1780a246c7",
   "metadata": {},
   "outputs": [],
   "source": [
    "\n",
    "\n",
    "# rng1, rng2, rng3, receivers, TIHOM, and Vp are already defined\n",
    "\n",
    "# Initialize the lists to store distances and times\n",
    "distAEs = [[[[0 for _ in range(len(receivers))] for _ in range(rng3)] for _ in range(rng2)] for _ in range(rng1)]\n",
    "timeAEs = [[[[0 for _ in range(len(receivers))] for _ in range(rng3)] for _ in range(rng2)] for _ in range(rng1)]\n",
    "\n",
    "# Loop over the ranges \n",
    "for i in range(rng1):\n",
    "    for j in range(rng2):\n",
    "        for k in range(rng3):\n",
    "            for r, receiver in enumerate(receivers):\n",
    "                # Calculate the norm (distance) between [i+1, j+1, k+1] and receiver\n",
    "                # Adding 1 to each index since MATLAB is 1-indexed and Python is 0-indexed\n",
    "                dist = np.linalg.norm(np.array([i+1, j+1, k+1]) - np.array(receiver))\n",
    "                distAEs[i][j][k][r] = np.float32(dist)\n",
    "                \n",
    "                if TIHOM == 1:  # for TI material\n",
    "                    theta = math.atan2(abs(j+1-receiver[1]), i+1-receiver[0]) * (180 / math.pi)\n",
    "                    Vp = PhaseVel(theta)  # Assuming PhaseVel is a defined function\n",
    "                    \n",
    "                # Calculate time, converting cm to meters by dividing by 100\n",
    "                timeAEs[i][j][k][r] = np.float32(dist / 100 / Vp)\n",
    "\n",
    "# At this point, distAEs and timeAEs are 4D lists populated with distances and times"
   ]
  },
  {
   "cell_type": "code",
   "execution_count": 19,
   "id": "2d35fd1d-c2e3-45c0-aec2-9207a30b91c8",
   "metadata": {},
   "outputs": [],
   "source": [
    "AA= ['../simorghndt/',accountname, '-',projectnamecode,'/']\n",
    "AAjoined = ''.join(AA)\n",
    "startpart=str(datenam[0]) + '-' + ('{0:0=2d}'.format(datenam[1])) + '-' + ('{0:0=2d}'.format(datenam[2])) + '_' + ('{0:0=2d}'.format(starttime[0]))  + '-' +  ('{0:0=2d}'.format(starttime[1])) +  '-' +  ('{0:0=2d}'.format(starttime[2])) +  '.2215332_'  + rocknam  + '_ch*'\n",
    "\n",
    "nam=sorted(glob.glob(AAjoined+startpart))\n",
    "passivehour = float(startpart[11:13]) \n",
    "passivemin = float(startpart[14:16])\n",
    "passivesec = float(startpart[17:19])"
   ]
  },
  {
   "cell_type": "code",
   "execution_count": 20,
   "id": "e241b3f6-1806-47f3-845b-1a201b8a064c",
   "metadata": {},
   "outputs": [
    {
     "data": {
      "text/plain": [
       "'../simorghndt/MomeniAc-ahar____/'"
      ]
     },
     "execution_count": 20,
     "metadata": {},
     "output_type": "execute_result"
    }
   ],
   "source": [
    "AAjoined"
   ]
  },
  {
   "cell_type": "code",
   "execution_count": 21,
   "id": "d5b4a83a-bc3e-45a2-a758-c8b925fbd729",
   "metadata": {},
   "outputs": [],
   "source": [
    "chall = simorghNDTmodule.ReadBinary(nam, AAjoined,AAjoined)"
   ]
  },
  {
   "cell_type": "code",
   "execution_count": 22,
   "id": "b5344588-cee8-4875-b28b-f913225ae114",
   "metadata": {},
   "outputs": [],
   "source": [
    "os.chdir('../')\n",
    "os.makedirs(resultsfoldname, exist_ok=True)\n",
    "os.chdir(resultsfoldname)"
   ]
  },
  {
   "cell_type": "code",
   "execution_count": 23,
   "id": "6460a169-d89b-4c01-9ec5-db8972d1ac69",
   "metadata": {},
   "outputs": [],
   "source": [
    "resultsfoldpath = os.getcwd()"
   ]
  },
  {
   "cell_type": "code",
   "execution_count": 24,
   "id": "fbae585e-37a4-4706-8791-b66c154a9383",
   "metadata": {},
   "outputs": [
    {
     "data": {
      "text/plain": [
       "'MomeniAc-ahar____-ndt-results'"
      ]
     },
     "execution_count": 24,
     "metadata": {},
     "output_type": "execute_result"
    }
   ],
   "source": [
    "resultsfoldname"
   ]
  },
  {
   "cell_type": "code",
   "execution_count": 25,
   "id": "29439a79-2efd-41b8-9a82-935e2ece1ea0",
   "metadata": {},
   "outputs": [],
   "source": [
    "current_date = date.today().strftime(\"%b-%d-%Y\")\n",
    "current_time = datetime.datetime.now().strftime(\"%H:%M:%S\") # clo\n",
    "starttime = [hr1, min1, sec1]\n",
    "endtime = [hr2, min2, sec2]\n",
    "\n",
    "starttime_str = ''.join([str(i) for i in starttime])\n",
    "endtime_str = ''.join([str(i) for i in endtime])\n",
    "\n",
    "#np.timedelta64(starttime)\n",
    "A = [ 2022, 4, 7]\n",
    "datename = ''.join([str(i) for i in A])"
   ]
  },
  {
   "cell_type": "code",
   "execution_count": 26,
   "id": "e58212b0-d75f-4586-a879-0478b52db84d",
   "metadata": {},
   "outputs": [
    {
     "data": {
      "text/plain": [
       "'MomeniAc-ahar____-ndt-results/ResultsActivetime'"
      ]
     },
     "execution_count": 26,
     "metadata": {},
     "output_type": "execute_result"
    }
   ],
   "source": [
    "directory_path = '/'.join([resultsfoldname, 'ResultsActivetime'])\n",
    "directory_path"
   ]
  },
  {
   "cell_type": "code",
   "execution_count": 27,
   "id": "9f36c99a-4927-4590-8824-fbc50ea55144",
   "metadata": {},
   "outputs": [
    {
     "data": {
      "text/plain": [
       "'/ResultsActivetime/activetime-202247-181910-19:02:02.txt'"
      ]
     },
     "execution_count": 27,
     "metadata": {},
     "output_type": "execute_result"
    }
   ],
   "source": [
    "# activetimename = 'ResultsActivetime' + '/' + 'activetime_' + datename + '_' + starttime_str + '_' + current_time +'.txt'\n",
    "\n",
    "activetimename = '-'.join([ 'activetime', datename, starttime_str, current_time])\n",
    "activetimename = ''.join(['/ResultsActivetime/',activetimename, '.txt'])\n",
    "\n",
    "activetimename"
   ]
  },
  {
   "cell_type": "code",
   "execution_count": 28,
   "id": "07fe39cb-2ad8-4f1e-940f-3351f9f0d2c4",
   "metadata": {},
   "outputs": [
    {
     "data": {
      "text/plain": [
       "('2022-04-07', '18-19-10')"
      ]
     },
     "execution_count": 28,
     "metadata": {},
     "output_type": "execute_result"
    }
   ],
   "source": [
    "datalength = 4\n",
    "fracsamp = (len(chall[1])/(datalength))/2e6 # fraction for sample convertion to detect the signals\n",
    "samprate = fracsamp*2e6 # fix(sampnumb/(2*datalength)); 2 channnels and 4 seconds\n",
    "date = str(startpart[0:10])\n",
    "time=str(startpart[11:19])\n",
    "date,time"
   ]
  },
  {
   "cell_type": "code",
   "execution_count": 29,
   "id": "6cd68c91-3267-4997-b1ba-a405e4a59be6",
   "metadata": {},
   "outputs": [],
   "source": [
    "Fs = samprate\n",
    "filtlengthstep = samprate/100 # % steps for calculation of fourier spectrum\n",
    "activecorrTDFD = 1\n",
    "activecorrTD = 0\n",
    "activecorrFD = 1\n",
    "\n",
    "#activetimename = 'activetime' + date + time + str(current_date) + str(current_time) + '.txt'\n",
    "ActivePowerThreshold = 500\n",
    "filtlengthstep = 1e5\n"
   ]
  },
  {
   "cell_type": "code",
   "execution_count": 30,
   "id": "866d1cc3-f134-482c-b187-e6a86b4468d4",
   "metadata": {},
   "outputs": [],
   "source": [
    "# mainloo = 1\n",
    "mainloo, rocknam = 1, \"Gabbro07K\""
   ]
  },
  {
   "cell_type": "code",
   "execution_count": 31,
   "id": "552f66ca-6346-44a3-9669-7942d6633bc6",
   "metadata": {},
   "outputs": [],
   "source": [
    "# Parsing dates and times\n",
    "year = int(date[:4])\n",
    "month = int(date[5:7])\n",
    "day = int(date[8:10])\n",
    "hour = int(time[:2])\n",
    "minute = int(time[3:5])\n",
    "second = int(time[6:8])"
   ]
  },
  {
   "cell_type": "code",
   "execution_count": 32,
   "id": "851a86a7-93de-4517-8d71-b4a7c194eae7",
   "metadata": {},
   "outputs": [],
   "source": [
    "# Filter requirements.\n",
    "T = 4.0           # Sample Period\n",
    "fs = 1e7          # sample rate, Hz\n",
    "lowcut = 1e3      # desired cutoff frequency of the filter, Hz, slightly higher than actual 1.2 Hz\n",
    "highcut = 1e6     # desired cutoff frequency of the filter, Hz, slightly higher than actual 1.2 Hz\n",
    "nyq = 0.5 * fs    # Nyquist Frequency\n",
    "order = 2         # sin wave can be approx represented as quadratic\n",
    "n = int(T * fs)   # total number of samples\n"
   ]
  },
  {
   "cell_type": "code",
   "execution_count": 33,
   "id": "d5b71b4e-8548-420e-a79e-2782b111add0",
   "metadata": {},
   "outputs": [],
   "source": [
    "if clientInfo.iloc[3].iloc[0]=='realtime':\n",
    "    realtime = True\n",
    "else:\n",
    "    realtime = False"
   ]
  },
  {
   "cell_type": "code",
   "execution_count": 34,
   "id": "1d1b100c-5ab0-460d-9aed-38de00258d41",
   "metadata": {},
   "outputs": [],
   "source": [
    "#realtime = True"
   ]
  },
  {
   "cell_type": "code",
   "execution_count": 35,
   "id": "fd1ee4ca-da08-4a96-a303-b259f9f11ffc",
   "metadata": {},
   "outputs": [
    {
     "data": {
      "image/png": "[encoded data removed]",
      "text/plain": [
       "<Figure size 640x480 with 1 Axes>"
      ]
     },
     "metadata": {},
     "output_type": "display_data"
    },
    {
     "data": {
      "image/png": "[encoded data removed]",
      "text/plain": [
       "<Figure size 640x480 with 1 Axes>"
      ]
     },
     "metadata": {},
     "output_type": "display_data"
    },
    {
     "data": {
      "image/png": "[encoded data removed]",
      "text/plain": [
       "<Figure size 640x480 with 1 Axes>"
      ]
     },
     "metadata": {},
     "output_type": "display_data"
    },
    {
     "data": {
      "image/png": "[encoded data removed]",
      "text/plain": [
       "<Figure size 640x480 with 1 Axes>"
      ]
     },
     "metadata": {},
     "output_type": "display_data"
    }
   ],
   "source": [
    "# The main loop\n",
    "usedSTA ={}\n",
    "A = '-'.join([clientInfo.iloc[0].iloc[0], clientInfo.iloc[1].iloc[0], clientInfo.iloc[2].iloc[0], 'visualization']) +'.png'\n",
    "\n",
    "\n",
    "x, passive_plot_cnt = 0, 0\n",
    "TimeToPlot = 0\n",
    "\n",
    "sec_start = datetime.datetime.now().second\n",
    "min_start = datetime.datetime.now().minute\n",
    "h_start = datetime.datetime.now().hour\n",
    "\n",
    "\n",
    "for phasenum in range(10):\n",
    "        \n",
    "        sec_end = datetime.datetime.now().second\n",
    "        min_end = datetime.datetime.now().minute\n",
    "        h_end = datetime.datetime.now().hour\n",
    "        \n",
    "        if h_end >= h_start :\n",
    "            T = (h_end - h_start) * 60 + (min_end - min_start)\n",
    "        else:\n",
    "            T = (h_end + 24 - h_start) * 60 + (min_end - min_start)\n",
    "\n",
    "        if (realtime == False) &  ( T >= TimeToPlot)  & (passive_plot_cnt == 0 ):\n",
    "            #print(realtime, T,passive_plot_cnt)\n",
    "            x = x+1\n",
    "            fig, ax = plt.subplots(1, 1)\n",
    "            ax.plot(chall[7])\n",
    "            ax.set_title('fig1', size= 15)\n",
    "            fig1 = plt.gcf()\n",
    "            \n",
    "            fig1.savefig(A, dpi=100)\n",
    "            fig1.savefig('fig-first.png', dpi=100)\n",
    "            passive_plot_cnt = 1\n",
    "\n",
    "        if (realtime == True) & ( phasenum%3 == 0) :\n",
    "            fig, ax = plt.subplots(1, 1)\n",
    "            ax.plot(chall[7])\n",
    "            ax.set_title(phasenum, size= 15)\n",
    "            x = x+1\n",
    "            fig1 = plt.gcf()\n",
    "            fig1.savefig('phasenum %d' %phasenum, dpi=100)\n",
    "            fig1.savefig(A, dpi=100)\n",
    "        \n",
    "        with open('estimated_remaining_time.txt', 'w') as ff:\n",
    "            estimated_remaining_time = 1000 - phasenum\n",
    "            #ff.write(str(estimated_remaining_time))\n",
    "            #ff.write(\"\\n\")\n",
    "            ff.write(datetime.datetime.now().strftime('%H:%M:%S'))\n",
    "            ff.write(\"\\n\")\n",
    "\n",
    "if realtime == False :\n",
    "        \n",
    "        fig, ax = plt.subplots(1, 1)\n",
    "        ax.plot(chall[7])\n",
    "        ax.set_title('fig-end', size= 15)\n",
    "        fig1 = plt.gcf()\n",
    "        \n",
    "        fig1.savefig(A, dpi=100)\n",
    "        fig1.savefig('fig-end.png', dpi=100)\n",
    "\n",
    "    \n",
    "        \n",
    "\n",
    "        "
   ]
  },
  {
   "cell_type": "code",
   "execution_count": 36,
   "id": "740af89a-2be9-4fd7-bcef-557d5ff803c8",
   "metadata": {
    "scrolled": true
   },
   "outputs": [
    {
     "data": {
      "text/plain": [
       "'/Users/simorgh/Documents/SimorghPythonCode/Gabro7AWS/MomeniAc-ahar____-ndt-results.zip'"
      ]
     },
     "execution_count": 36,
     "metadata": {},
     "output_type": "execute_result"
    }
   ],
   "source": [
    "#to create results folder in zip\n",
    "make_archive(resultsfoldpath, 'zip', resultsfoldpath)"
   ]
  },
  {
   "cell_type": "code",
   "execution_count": null,
   "id": "7188ef68-685c-4b3c-b4cb-b9ecb9936c9d",
   "metadata": {},
   "outputs": [],
   "source": []
  },
  {
   "cell_type": "code",
   "execution_count": null,
   "id": "ded2fab5-25fc-4306-8945-bec1b37a74b6",
   "metadata": {},
   "outputs": [],
   "source": []
  }
 ],
 "metadata": {
  "kernelspec": {
   "display_name": "Python 3 (ipykernel)",
   "language": "python",
   "name": "python3"
  },
  "language_info": {
   "codemirror_mode": {
    "name": "ipython",
    "version": 3
   },
   "file_extension": ".py",
   "mimetype": "text/x-python",
   "name": "python",
   "nbconvert_exporter": "python",
   "pygments_lexer": "ipython3",
   "version": "3.9.6"
  },
  "toc-autonumbering": true,
  "toc-showmarkdowntxt": true
 },
 "nbformat": 4,
 "nbformat_minor": 5
}
